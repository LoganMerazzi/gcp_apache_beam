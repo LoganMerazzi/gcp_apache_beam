{
  "nbformat": 4,
  "nbformat_minor": 0,
  "metadata": {
    "colab": {
      "name": "10 - ParDo.ipynb",
      "provenance": [],
      "collapsed_sections": []
    },
    "kernelspec": {
      "name": "python3",
      "display_name": "Python 3"
    },
    "language_info": {
      "name": "python"
    }
  },
  "cells": [
    {
      "cell_type": "code",
      "execution_count": null,
      "metadata": {
        "id": "kPqyuWSjEnjO"
      },
      "outputs": [],
      "source": [
        "pip install apache_beam[interactive]"
      ]
    },
    {
      "cell_type": "code",
      "source": [
        "import apache_beam as beam"
      ],
      "metadata": {
        "id": "1fLo4dYvEvA7"
      },
      "execution_count": 1,
      "outputs": []
    },
    {
      "cell_type": "code",
      "source": [
        "p1 = beam.Pipeline()\n",
        "\n",
        "class filtro(beam.DoFn):\n",
        "  def process(self, record):\n",
        "    if int(record[8]) > 0:\n",
        "      return[record]\n",
        "\n",
        "Tempo_Atrasos = (\n",
        "p1\n",
        "  | \"(Tempo): Importar os dados\" >> beam.io.ReadFromText(\"voos_sample.csv\", skip_header_lines=1)\n",
        "  | \"(Tempo): Separar por vírgulas\" >> beam.Map(lambda record: record.split(','))\n",
        "  | \"(Tempo): Pegar vôos de Los Angeles\" >> beam.ParDo(filtro())\n",
        "  | \"(Tempo): Criar o par\" >> beam.Map(lambda record: (record[4], int(record[9])))\n",
        "  | \"(Tempo): Somar por key\" >> beam.CombinePerKey(sum)\n",
        "# Se mantiver o print, ele \"perde\" o status e não guarda o resultado para uso posterior\n",
        "# | \"Mostrar os resultados\" >> beam.Map(print)\n",
        ")\n",
        "\n",
        "\n",
        "Qtd_Atrasos = (\n",
        "p1\n",
        "  | \"(Qtd): Importar os dados\" >> beam.io.ReadFromText(\"voos_sample.csv\", skip_header_lines=1)\n",
        "  | \"(Qtd): Separar por vírgulas\" >> beam.Map(lambda record: record.split(','))\n",
        "  | \"(Qtd): Pegar vôos de Los Angeles\" >> beam.ParDo(filtro())\n",
        "  | \"(Qtd): Criar o par\" >> beam.Map(lambda record: (record[4], int(record[9])))\n",
        "  | \"(Qtd): contar por key\" >> beam.combiners.Count.PerKey()\n",
        "# | \"Mostrar os resultados\" >> beam.Map(print)\n",
        ")\n",
        "\n",
        "tabela_atrasos = (\n",
        "    {'Qtd_Atrasos':Qtd_Atrasos, 'Tempo_Atrasos': Tempo_Atrasos}\n",
        "    | \"Group By\" >> beam.CoGroupByKey()\n",
        "    | beam.Map(print)\n",
        ")\n",
        "\n",
        "# para executar:\n",
        "p1.run()"
      ],
      "metadata": {
        "colab": {
          "base_uri": "https://localhost:8080/"
        },
        "id": "C_SyT6nBE8GG",
        "outputId": "12bfe95b-6b5d-4f42-ee56-a866e320be73"
      },
      "execution_count": 3,
      "outputs": [
        {
          "output_type": "stream",
          "name": "stdout",
          "text": [
            "('LAX', {'Qtd_Atrasos': [4], 'Tempo_Atrasos': [1454]})\n",
            "('HNL', {'Qtd_Atrasos': [1], 'Tempo_Atrasos': [510]})\n",
            "('DFW', {'Qtd_Atrasos': [1], 'Tempo_Atrasos': [385]})\n",
            "('OGG', {'Qtd_Atrasos': [1], 'Tempo_Atrasos': [497]})\n",
            "('JFK', {'Qtd_Atrasos': [4], 'Tempo_Atrasos': [1102]})\n"
          ]
        },
        {
          "output_type": "execute_result",
          "data": {
            "text/plain": [
              "<apache_beam.runners.portability.fn_api_runner.fn_runner.RunnerResult at 0x7f3e9689af10>"
            ]
          },
          "metadata": {},
          "execution_count": 3
        }
      ]
    },
    {
      "cell_type": "code",
      "source": [
        ""
      ],
      "metadata": {
        "id": "t-QkG-sliHxL"
      },
      "execution_count": null,
      "outputs": []
    }
  ]
}