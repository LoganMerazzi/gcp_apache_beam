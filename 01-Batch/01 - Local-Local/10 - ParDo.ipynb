{
  "cells": [
    {
      "cell_type": "code",
      "execution_count": null,
      "metadata": {
        "id": "kPqyuWSjEnjO"
      },
      "outputs": [],
      "source": [
        "pip install apache_beam[interactive]"
      ]
    },
    {
      "cell_type": "code",
      "execution_count": 4,
      "metadata": {},
      "outputs": [
        {
          "name": "stdout",
          "output_type": "stream",
          "text": [
            "Collecting pandas\n",
            "  Downloading pandas-1.4.3-cp310-cp310-win_amd64.whl (10.5 MB)\n",
            "     ---------------------------------------- 10.5/10.5 MB 1.6 MB/s eta 0:00:00\n",
            "Requirement already satisfied: pytz>=2020.1 in d:\\python310\\lib\\site-packages (from pandas) (2022.1)\n",
            "Requirement already satisfied: numpy>=1.21.0 in d:\\python310\\lib\\site-packages (from pandas) (1.22.4)\n",
            "Requirement already satisfied: python-dateutil>=2.8.1 in d:\\python310\\lib\\site-packages (from pandas) (2.8.2)\n",
            "Requirement already satisfied: six>=1.5 in d:\\python310\\lib\\site-packages (from python-dateutil>=2.8.1->pandas) (1.16.0)\n",
            "Installing collected packages: pandas\n",
            "Successfully installed pandas-1.4.3\n",
            "Note: you may need to restart the kernel to use updated packages.\n"
          ]
        }
      ],
      "source": [
        "pip install pandas"
      ]
    },
    {
      "cell_type": "code",
      "execution_count": 1,
      "metadata": {
        "id": "1fLo4dYvEvA7"
      },
      "outputs": [
        {
          "name": "stderr",
          "output_type": "stream",
          "text": [
            "d:\\Python310\\lib\\site-packages\\apache_beam\\__init__.py:79: UserWarning: This version of Apache Beam has not been sufficiently tested on Python 3.10. You may encounter bugs or missing features.\n",
            "  warnings.warn(\n"
          ]
        }
      ],
      "source": [
        "import apache_beam as beam"
      ]
    },
    {
      "cell_type": "code",
      "execution_count": 5,
      "metadata": {
        "colab": {
          "base_uri": "https://localhost:8080/"
        },
        "id": "C_SyT6nBE8GG",
        "outputId": "12bfe95b-6b5d-4f42-ee56-a866e320be73"
      },
      "outputs": [
        {
          "name": "stderr",
          "output_type": "stream",
          "text": [
            "WARNING:apache_beam.runners.interactive.interactive_environment:Dependencies required for Interactive Beam PCollection visualization are not available, please use: `pip install apache-beam[interactive]` to install necessary dependencies to enable all data visualization features.\n"
          ]
        },
        {
          "data": {
            "application/javascript": "\n        if (typeof window.interactive_beam_jquery == 'undefined') {\n          var jqueryScript = document.createElement('script');\n          jqueryScript.src = 'https://code.jquery.com/jquery-3.4.1.slim.min.js';\n          jqueryScript.type = 'text/javascript';\n          jqueryScript.onload = function() {\n            var datatableScript = document.createElement('script');\n            datatableScript.src = 'https://cdn.datatables.net/1.10.20/js/jquery.dataTables.min.js';\n            datatableScript.type = 'text/javascript';\n            datatableScript.onload = function() {\n              window.interactive_beam_jquery = jQuery.noConflict(true);\n              window.interactive_beam_jquery(document).ready(function($){\n                \n              });\n            }\n            document.head.appendChild(datatableScript);\n          };\n          document.head.appendChild(jqueryScript);\n        } else {\n          window.interactive_beam_jquery(document).ready(function($){\n            \n          });\n        }"
          },
          "metadata": {},
          "output_type": "display_data"
        },
        {
          "name": "stdout",
          "output_type": "stream",
          "text": [
            "('LAX', {'Qtd_Atrasos': [4], 'Tempo_Atrasos': [1454]})\n",
            "('HNL', {'Qtd_Atrasos': [1], 'Tempo_Atrasos': [510]})\n",
            "('DFW', {'Qtd_Atrasos': [1], 'Tempo_Atrasos': [385]})\n",
            "('OGG', {'Qtd_Atrasos': [1], 'Tempo_Atrasos': [497]})\n",
            "('JFK', {'Qtd_Atrasos': [4], 'Tempo_Atrasos': [1102]})\n"
          ]
        },
        {
          "data": {
            "text/plain": [
              "<apache_beam.runners.portability.fn_api_runner.fn_runner.RunnerResult at 0x267981f2c80>"
            ]
          },
          "execution_count": 5,
          "metadata": {},
          "output_type": "execute_result"
        }
      ],
      "source": [
        "p1 = beam.Pipeline()\n",
        "\n",
        "class filtro(beam.DoFn):\n",
        "  def process(self, record):\n",
        "    if int(record[8]) > 0:\n",
        "      return[record]\n",
        "\n",
        "Tempo_Atrasos = (\n",
        "p1\n",
        "  | \"(Tempo): Importar os dados\" >> beam.io.ReadFromText(\"../Original/voos_sample.csv\", skip_header_lines=1)\n",
        "  | \"(Tempo): Separar por vírgulas\" >> beam.Map(lambda record: record.split(','))\n",
        "  | \"(Tempo): Pegar vôos de Los Angeles\" >> beam.ParDo(filtro())\n",
        "  | \"(Tempo): Criar o par\" >> beam.Map(lambda record: (record[4], int(record[9])))\n",
        "  | \"(Tempo): Somar por key\" >> beam.CombinePerKey(sum)\n",
        "# Se mantiver o print, ele \"perde\" o status e não guarda o resultado para uso posterior\n",
        "# | \"Mostrar os resultados\" >> beam.Map(print)\n",
        ")\n",
        "\n",
        "\n",
        "Qtd_Atrasos = (\n",
        "p1\n",
        "  | \"(Qtd): Importar os dados\" >> beam.io.ReadFromText(\"../Original/voos_sample.csv\", skip_header_lines=1)\n",
        "  | \"(Qtd): Separar por vírgulas\" >> beam.Map(lambda record: record.split(','))\n",
        "  | \"(Qtd): Pegar vôos de Los Angeles\" >> beam.ParDo(filtro())\n",
        "  | \"(Qtd): Criar o par\" >> beam.Map(lambda record: (record[4], int(record[9])))\n",
        "  | \"(Qtd): contar por key\" >> beam.combiners.Count.PerKey()\n",
        "# | \"Mostrar os resultados\" >> beam.Map(print)\n",
        ")\n",
        "\n",
        "tabela_atrasos = (\n",
        "    {'Qtd_Atrasos':Qtd_Atrasos, 'Tempo_Atrasos': Tempo_Atrasos}\n",
        "    | \"Group By\" >> beam.CoGroupByKey()\n",
        "    | beam.Map(print)\n",
        ")\n",
        "\n",
        "# para executar:\n",
        "p1.run()"
      ]
    },
    {
      "cell_type": "code",
      "execution_count": null,
      "metadata": {
        "id": "t-QkG-sliHxL"
      },
      "outputs": [],
      "source": []
    }
  ],
  "metadata": {
    "colab": {
      "collapsed_sections": [],
      "name": "10 - ParDo.ipynb",
      "provenance": []
    },
    "kernelspec": {
      "display_name": "Python 3.10.4 64-bit",
      "language": "python",
      "name": "python3"
    },
    "language_info": {
      "codemirror_mode": {
        "name": "ipython",
        "version": 3
      },
      "file_extension": ".py",
      "mimetype": "text/x-python",
      "name": "python",
      "nbconvert_exporter": "python",
      "pygments_lexer": "ipython3",
      "version": "3.10.4"
    },
    "vscode": {
      "interpreter": {
        "hash": "1fa163922eb0b3709bbb5d8082b2465c9de796dbaacca80cbaa600e7fff3e4fe"
      }
    }
  },
  "nbformat": 4,
  "nbformat_minor": 0
}
