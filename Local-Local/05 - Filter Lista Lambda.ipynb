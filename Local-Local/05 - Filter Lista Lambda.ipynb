{
  "cells": [
    {
      "cell_type": "code",
      "execution_count": null,
      "metadata": {
        "id": "kPqyuWSjEnjO"
      },
      "outputs": [],
      "source": [
        "pip install apache_beam[interactive]"
      ]
    },
    {
      "cell_type": "code",
      "execution_count": 1,
      "metadata": {
        "id": "1fLo4dYvEvA7"
      },
      "outputs": [],
      "source": [
        "import apache_beam as beam"
      ]
    },
    {
      "cell_type": "code",
      "execution_count": 5,
      "metadata": {
        "colab": {
          "base_uri": "https://localhost:8080/"
        },
        "id": "C_SyT6nBE8GG",
        "outputId": "efcc2aff-d07d-4ac1-c624-a49c3b120f99"
      },
      "outputs": [
        {
          "name": "stdout",
          "output_type": "stream",
          "text": [
            "['2019-04-27', '19805', '2', 'LAX', 'JFK', '944', '14', '1736', '-29', '269', '2475', '2']\n",
            "['2019-04-27', '19805', '4', 'LAX', 'JFK', '1240', '25', '2028', '-27', '264', '2475', '4']\n",
            "['2019-04-27', '19805', '10', 'LAX', 'JFK', '2156', '21', '556', '1', '265', '2475', '10']\n",
            "['2019-04-27', '19805', '12', 'LAX', 'JFK', '1113', '-2', '1910', '-40', '267', '2475', '11']\n",
            "['2019-04-27', '19805', '22', 'LAX', 'JFK', '1458', '-2', '2336', '11', '272', '2475', '20']\n"
          ]
        },
        {
          "data": {
            "text/plain": [
              "<apache_beam.runners.portability.fn_api_runner.fn_runner.RunnerResult at 0x7fefce184d50>"
            ]
          },
          "execution_count": 5,
          "metadata": {},
          "output_type": "execute_result"
        }
      ],
      "source": [
        "# Uso do Map\n",
        "\n",
        "p1 = beam.Pipeline()\n",
        "\n",
        "voos = (\n",
        "p1\n",
        "    # ler arquivos e excluir o cabeçalho\n",
        "    # pipelines indicam que a saída de um comando é entrada para o novo (padrão)\n",
        "    | \"Importar Dados\" >> beam.io.ReadFromText(\"voos_sample.csv\", skip_header_lines = 1)\n",
        "    | \"Separar por virgulas\" >> beam.Map(lambda record: record.split(','))\n",
        "    | \"Pegar voos de Los Angeles\" >> beam.Filter(lambda record: record[3] == \"LAX\")\n",
        "    | \"Mostrar resultados\" >> beam.Map(print)\n",
        ")\n",
        "\n",
        "# para executar:\n",
        "p1.run()"
      ]
    },
    {
      "cell_type": "code",
      "execution_count": 8,
      "metadata": {
        "colab": {
          "base_uri": "https://localhost:8080/"
        },
        "id": "_Z-oViDUJkA3",
        "outputId": "97117853-7f60-4c54-e34a-e39fa6b20376"
      },
      "outputs": [
        {
          "data": {
            "text/plain": [
              "<apache_beam.runners.portability.fn_api_runner.fn_runner.RunnerResult at 0x7fefce19ea90>"
            ]
          },
          "execution_count": 8,
          "metadata": {},
          "output_type": "execute_result"
        }
      ],
      "source": [
        "from typing import Collection\n",
        "palavras = ['quatro','um']\n",
        "\n",
        "def encontraPalavras(i):\n",
        "  if i in palavras:\n",
        "    return True\n",
        "\n",
        "p1 = beam.Pipeline()\n",
        "\n",
        "Collection = (\n",
        "    p1\n",
        "    | beam.io.ReadFromText('poema.txt')\n",
        "    | beam.FlatMap(lambda record: record.split(' '))\n",
        "    | beam.Filter(encontraPalavras)\n",
        "    | beam.io.WriteToText('resultado.txt')\n",
        ")\n",
        "\n",
        "p1.run()"
      ]
    }
  ],
  "metadata": {
    "colab": {
      "collapsed_sections": [],
      "name": "05 - Filter Lista / Lambda.ipynb",
      "provenance": []
    },
    "kernelspec": {
      "display_name": "Python 3.10.4 64-bit",
      "language": "python",
      "name": "python3"
    },
    "language_info": {
      "name": "python",
      "version": "3.10.4"
    },
    "vscode": {
      "interpreter": {
        "hash": "1fa163922eb0b3709bbb5d8082b2465c9de796dbaacca80cbaa600e7fff3e4fe"
      }
    }
  },
  "nbformat": 4,
  "nbformat_minor": 0
}
